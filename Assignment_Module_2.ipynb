{
  "nbformat": 4,
  "nbformat_minor": 0,
  "metadata": {
    "colab": {
      "provenance": []
    },
    "kernelspec": {
      "name": "python3",
      "display_name": "Python 3"
    },
    "language_info": {
      "name": "python"
    }
  },
  "cells": [
    {
      "cell_type": "markdown",
      "source": [
        "#Python Basics - Theory Questions\n",
        "\n"
      ],
      "metadata": {
        "id": "umgO5RDelqCb"
      }
    },
    {
      "cell_type": "markdown",
      "source": [
        "Q1-What is Python, and why is it popular?\n",
        "- Python was designed by Guido van Rossum, a Dutch programmer, in the late 1980s. He released the first version in 1991.Python is a high-level, interpreted programming language known for its simplicity and readability. It supports multiple programming paradigms, including procedural, object-oriented, and functional programming.\n",
        "\n",
        " Its popularity stems from:\n",
        "\n",
        " - Ease of use: Simple syntax, making it beginner-friendly.\n",
        " - Versatility: Used in web development, data science, artificial intelligence, automation, and more.\n",
        " - Large community: Extensive libraries and frameworks.\n",
        " - Cross-platform compatibility: Works on multiple operating systems."
      ],
      "metadata": {
        "id": "zeO6BT7EhiMu"
      }
    },
    {
      "cell_type": "markdown",
      "source": [
        "Q2-What is an interpreter in Python?"
      ],
      "metadata": {
        "id": "2JjrBlqWjXLi"
      }
    },
    {
      "cell_type": "markdown",
      "source": [
        "- An interpreter in Python is a program that executes Python code directly, line by line, rather than compiling it into machine language beforehand. It reads the source code, translates it into an intermediate form, and runs it simultaneously.\n"
      ],
      "metadata": {
        "id": "gRW8fLK9GrP1"
      }
    },
    {
      "cell_type": "markdown",
      "source": [
        "Q3-What are pre-defined keywords in Python?"
      ],
      "metadata": {
        "id": "XLuREUPIjiY7"
      }
    },
    {
      "cell_type": "markdown",
      "source": [
        "- Predefined words that holds a speacial meaning and have specific puporse. Some of the pre-defined keywords are - if, elif, import, etc."
      ],
      "metadata": {
        "id": "ypuhT75aG5-c"
      }
    },
    {
      "cell_type": "markdown",
      "source": [
        "Q4-Can keywords be used as variable names?"
      ],
      "metadata": {
        "id": "rtqiBQ49jiNq"
      }
    },
    {
      "cell_type": "markdown",
      "source": [
        "- No, keywords cannot be used as variable names in Python.\n",
        "Keywords are reserved words that have special meanings and purposes in the Python programming language. Using them as variable names would cause syntax errors because Python would misinterpret the intended functionality of the keyword."
      ],
      "metadata": {
        "id": "qp7RRmFoQ2EB"
      }
    },
    {
      "cell_type": "markdown",
      "source": [
        "Q5-What is mutability in Python?"
      ],
      "metadata": {
        "id": "V0x627eYjiKO"
      }
    },
    {
      "cell_type": "markdown",
      "source": [
        " - Objects/ Container whose state or value can be changed after they are created are called as mutable objects. Mutability means Changeability.\n",
        " List is a type of Mutable object."
      ],
      "metadata": {
        "id": "AZYYlMrYQ6Wq"
      }
    },
    {
      "cell_type": "markdown",
      "source": [
        "Q6-Why are lists mutable, but tuples are immutable?"
      ],
      "metadata": {
        "id": "RhQVL701jiHb"
      }
    },
    {
      "cell_type": "markdown",
      "source": [
        "- Lists are mutable because they are designed for dynamic operations like adding, removing, or modifying elements, making them flexible for use cases that require frequent changes.\n",
        "\n",
        "- Tuples are immutable to provide a lightweight, hashable, and stable data structure, suitable for fixed collections of items and ensuring data integrity when used as keys in dictionaries or elements in sets."
      ],
      "metadata": {
        "id": "FyPHkLWXRhcd"
      }
    },
    {
      "cell_type": "markdown",
      "source": [
        "Q7-What is the difference between “==” and “is” operators in Python?"
      ],
      "metadata": {
        "id": "UZKjvtMpjiEw"
      }
    },
    {
      "cell_type": "markdown",
      "source": [
        " - == (Equality Operator)\n",
        "  - Compares values of two objects to check if they are equal.\n",
        "  - Can return True even if the objects are stored at different memory locations.\n",
        "\n",
        " - is (Identity Operator)\n",
        "  - Compares the memory addresses (identity) of two objects to check if they are the same object.\n",
        "  - Returns True only if both variables point to the exact same object in memory.\n",
        "\n",
        " - Key Difference\n",
        "\n",
        "  - == checks value equality.\n",
        "\n",
        "  - is checks object identity."
      ],
      "metadata": {
        "id": "uk8luYGbR0iV"
      }
    },
    {
      "cell_type": "markdown",
      "source": [
        " Q8-What are logical operators in Python?"
      ],
      "metadata": {
        "id": "v1tvrO98jiBg"
      }
    },
    {
      "cell_type": "markdown",
      "source": [
        "- Logical operators in Python are used to combine or modify boolean expressions and return a boolean value (True or False). Python provides three logical operators:\n",
        "\n",
        "1. and (Logical AND)\n",
        "Returns True if both operands are True.\n",
        "Short-circuits: Stops evaluating as soon as it encounters a False.\n",
        "2. or (Logical OR)\n",
        "Returns True if at least one operand is True.\n",
        "Short-circuits: Stops evaluating as soon as it encounters a True.\n",
        "3. not (Logical NOT)\n",
        "Returns the opposite boolean value of the operand.\n",
        "It is a unary operator, meaning it works on a single operand."
      ],
      "metadata": {
        "id": "AnSVsRluSn0I"
      }
    },
    {
      "cell_type": "markdown",
      "source": [
        "Q9-What is type casting in Python?"
      ],
      "metadata": {
        "id": "cg76CvDpjh-o"
      }
    },
    {
      "cell_type": "markdown",
      "source": [
        " - The Process of changing the data type of a value. (Type Conversion)\n",
        " - There are two varities of typecasting in python namely-\n",
        "  - Implicit Typecasting\n",
        "  - Explicit Typecasting  "
      ],
      "metadata": {
        "id": "4_GrrYcaTdG2"
      }
    },
    {
      "cell_type": "markdown",
      "source": [
        " Q10-What is the difference between implicit and explicit type casting?"
      ],
      "metadata": {
        "id": "YLla7lgcjh7x"
      }
    },
    {
      "cell_type": "markdown",
      "source": [
        "- The difference between implicit and explicit type casting lies in who performs the conversion and how it occurs:\n",
        "\n",
        "1. Implicit Type Casting\n",
        "Performed by Python automatically.\n",
        "Happens when Python converts one data type to another without user intervention.\n",
        "Ensures no loss of data or precision.\n",
        "Typically occurs in numeric operations (e.g., combining int and float).\n",
        "\n",
        "2. Explicit Type Casting\n",
        "Performed manually by the programmer.\n",
        "Achieved using Python’s built-in functions like int(), float(), str(), etc.\n",
        "Used when you need to forcefully convert a data type.\n",
        "Can lead to data loss if not used carefully."
      ],
      "metadata": {
        "id": "MRQNOrINW7pZ"
      }
    },
    {
      "cell_type": "markdown",
      "source": [
        "Q11-What is the purpose of conditional statements in Python?"
      ],
      "metadata": {
        "id": "U0q5JnKHjh47"
      }
    },
    {
      "cell_type": "markdown",
      "source": [
        "- The purpose of conditional statements in Python is to enable decision-making in a program. They allow the program to execute specific blocks of code based on whether a condition (or set of conditions) evaluates to True or False. This helps in controlling the program's flow dynamically.\n",
        "\n",
        "- Key Uses of Conditional Statements\n",
        "  - Decision Making: Execute different code paths based on conditions.\n",
        "  - Control Flow: Change the flow of execution based on dynamic inputs or logic.\n",
        "  - Validation: Check and enforce conditions before performing actions.\n",
        "- Types of Conditional Statements in Python\n",
        "  - if Statement\n",
        "  - if-else\n",
        "  - if-elif-else\n",
        "  - nested if-else"
      ],
      "metadata": {
        "id": "dEjnjg8cXB9r"
      }
    },
    {
      "cell_type": "markdown",
      "source": [
        "Q12-How does the elif statement work?"
      ],
      "metadata": {
        "id": "pTqxzV3_jhuc"
      }
    },
    {
      "cell_type": "markdown",
      "source": [
        "- The elif statement in Python is used for multiple conditional checks. It stands for \"else if\" and allows you to test several conditions in sequence. When the program encounters an elif, it evaluates the condition associated with it, and if the condition is True, it executes the block of code under that elif.\n",
        "\n",
        "- If the condition is False, the program moves to the next elif or else statement, (if any)."
      ],
      "metadata": {
        "id": "4tbApkRfXs_P"
      }
    },
    {
      "cell_type": "markdown",
      "source": [
        "Q13-What is the difference between for and while loops?"
      ],
      "metadata": {
        "id": "kmZJrT74jhfy"
      }
    },
    {
      "cell_type": "markdown",
      "source": [
        "- The key difference between for and while loops in Python lies in their structure and use cases:\n",
        "\n",
        "1. for Loop\n",
        "Purpose: The for loop is used to iterate over a sequence (like a list, tuple, string, or range) for a specific number of times.\n",
        " - When to use: When you know the number of iterations in advance or you are iterating over a collection (like a list or range).\n",
        " - Control: The loop automatically handles the iteration, and you don't need to manually update the loop variable.\n",
        "2. while Loop\n",
        "Purpose: The while loop continues executing as long as the given condition is True.\n",
        " - When to use: When you don't know beforehand how many iterations are needed and you want the loop to run until a condition is met.\n",
        " - Control: You need to manually update the condition within the loop to prevent an infinite loop."
      ],
      "metadata": {
        "id": "SMZITfqfYGtO"
      }
    },
    {
      "cell_type": "markdown",
      "source": [
        "Q14-Describe a scenario where a while loop is more suitable than a for loop."
      ],
      "metadata": {
        "id": "JxXeCmPqjfs_"
      }
    },
    {
      "cell_type": "markdown",
      "source": [
        "- A while loop is more suitable than a for loop when the number of iterations is not known in advance and the loop should continue as long as a certain condition is true.\n",
        "\n",
        "Imagine you're building a program that prompts the user to enter a valid password. You don't know how many attempts the user will need, so you need the loop to continue until the user enters a valid password.\n",
        "\n",
        "password = \"secret123\"\n",
        "user_input = \"\"\n",
        "\n",
        "while user_input != password:\n",
        "    user_input = input(\"Enter your password: \")\n",
        "    if user_input != password:\n",
        "        print(\"Invalid password, try again.\")\n",
        "        \n",
        "print(\"Password accepted!\")\n",
        "- Explanation: The while loop continues to ask for the password until the user enters the correct one.\n",
        "- The condition (user_input != password) is checked each time, and the loop keeps running until the condition becomes False (i.e., the user enters the correct password).\n",
        "- The number of iterations is not predefined, making the while loop the ideal choice for this scenario.\n",
        "\n",
        "- Why a for loop wouldn't be suitable:\n",
        "A for loop is typically used when you know the number of iterations in advance, such as iterating over a list or range. In this case, since we don't know how many times the user will attempt to enter the password, a for loop isn't ideal unless you explicitly set a fixed number of attempts.\n",
        "\n"
      ],
      "metadata": {
        "id": "W2-QcSmvYiBO"
      }
    },
    {
      "cell_type": "markdown",
      "source": [
        "#Python Basics - Practical Questions"
      ],
      "metadata": {
        "id": "W13rRfdQmA0u"
      }
    },
    {
      "cell_type": "markdown",
      "source": [
        "Q1- Write a Python program to print \"Hello, World!\""
      ],
      "metadata": {
        "id": "lKcEsTQxmJFx"
      }
    },
    {
      "cell_type": "code",
      "source": [
        "print(\"Hello, World!\")"
      ],
      "metadata": {
        "colab": {
          "base_uri": "https://localhost:8080/"
        },
        "id": "ltXW6aP96zdA",
        "outputId": "6f558904-2b3e-4959-dc7b-b23bdfeafc6d"
      },
      "execution_count": null,
      "outputs": [
        {
          "output_type": "stream",
          "name": "stdout",
          "text": [
            "Hello, World!\n"
          ]
        }
      ]
    },
    {
      "cell_type": "markdown",
      "source": [
        "Q2- Write a Python program that displays your name and age."
      ],
      "metadata": {
        "id": "bhFIod07mduR"
      }
    },
    {
      "cell_type": "code",
      "source": [
        "name= \"Harshit Shandilya\"\n",
        "age= 20\n",
        "print(\"My Name is\", name)\n",
        "print(\"My age is\", age)"
      ],
      "metadata": {
        "colab": {
          "base_uri": "https://localhost:8080/"
        },
        "id": "ufYTE9O5m0Ie",
        "outputId": "cf3dc265-1302-48b1-8d97-c6545fc431a9"
      },
      "execution_count": null,
      "outputs": [
        {
          "output_type": "stream",
          "name": "stdout",
          "text": [
            "My Name is Harshit Shandilya\n",
            "My age is 20\n"
          ]
        }
      ]
    },
    {
      "cell_type": "markdown",
      "source": [
        "Q3- Write code to print all the pre-defined keywords in Python using the keyword library."
      ],
      "metadata": {
        "id": "mt14srkangzj"
      }
    },
    {
      "cell_type": "code",
      "source": [
        "help(\"keywords\")"
      ],
      "metadata": {
        "colab": {
          "base_uri": "https://localhost:8080/"
        },
        "id": "GalaFK6unnZa",
        "outputId": "1bf170f5-04f5-42ea-d748-ee9ef5c562c2"
      },
      "execution_count": null,
      "outputs": [
        {
          "output_type": "stream",
          "name": "stdout",
          "text": [
            "\n",
            "Here is a list of the Python keywords.  Enter any keyword to get more help.\n",
            "\n",
            "False               class               from                or\n",
            "None                continue            global              pass\n",
            "True                def                 if                  raise\n",
            "and                 del                 import              return\n",
            "as                  elif                in                  try\n",
            "assert              else                is                  while\n",
            "async               except              lambda              with\n",
            "await               finally             nonlocal            yield\n",
            "break               for                 not                 \n",
            "\n"
          ]
        }
      ]
    },
    {
      "cell_type": "markdown",
      "source": [
        "Q4- Write a program that checks if a given word is a Python keyword."
      ],
      "metadata": {
        "id": "VUlvQuRMoiwS"
      }
    },
    {
      "cell_type": "code",
      "source": [
        "import  keyword\n",
        "a= keyword.kwlist\n",
        "b= (input(\" Enter a Word\"))\n",
        "if b in a:\n",
        "  print(\"The Word is a keyword\")\n",
        "else:\n",
        "  print(\"The Word is not a keyword\")"
      ],
      "metadata": {
        "colab": {
          "base_uri": "https://localhost:8080/"
        },
        "id": "R3SjJme4ohtp",
        "outputId": "a16c2780-fce8-434b-f1e6-53e88f1fbfee"
      },
      "execution_count": null,
      "outputs": [
        {
          "output_type": "stream",
          "name": "stdout",
          "text": [
            " Enter a Wordfor\n",
            "The Word is a keyword\n"
          ]
        }
      ]
    },
    {
      "cell_type": "markdown",
      "source": [
        "Q5- Create a list and tuple in Python, and demonstrate how attempting to change an element works differently for each."
      ],
      "metadata": {
        "id": "3_OVkqZjx6tA"
      }
    },
    {
      "cell_type": "code",
      "source": [
        "list_ = ['Apple','Mango','Banana']\n",
        "tuple_ = ('Apple','Mango','Banana')\n",
        "list_[0] = 'Grapes'\n",
        "print(list_)\n",
        "tuple_[0] = 'Grapes'\n",
        "print(tuple_)"
      ],
      "metadata": {
        "colab": {
          "base_uri": "https://localhost:8080/",
          "height": 211
        },
        "id": "D_JQeXnDx6PD",
        "outputId": "405822e0-585a-4d4b-c196-f5c9a43df3c5"
      },
      "execution_count": null,
      "outputs": [
        {
          "output_type": "stream",
          "name": "stdout",
          "text": [
            "['Grapes', 'Mango', 'Banana']\n"
          ]
        },
        {
          "output_type": "error",
          "ename": "TypeError",
          "evalue": "'tuple' object does not support item assignment",
          "traceback": [
            "\u001b[0;31m---------------------------------------------------------------------------\u001b[0m",
            "\u001b[0;31mTypeError\u001b[0m                                 Traceback (most recent call last)",
            "\u001b[0;32m<ipython-input-33-43a88276ed00>\u001b[0m in \u001b[0;36m<cell line: 5>\u001b[0;34m()\u001b[0m\n\u001b[1;32m      3\u001b[0m \u001b[0mlist_\u001b[0m\u001b[0;34m[\u001b[0m\u001b[0;36m0\u001b[0m\u001b[0;34m]\u001b[0m \u001b[0;34m=\u001b[0m \u001b[0;34m'Grapes'\u001b[0m\u001b[0;34m\u001b[0m\u001b[0;34m\u001b[0m\u001b[0m\n\u001b[1;32m      4\u001b[0m \u001b[0mprint\u001b[0m\u001b[0;34m(\u001b[0m\u001b[0mlist_\u001b[0m\u001b[0;34m)\u001b[0m\u001b[0;34m\u001b[0m\u001b[0;34m\u001b[0m\u001b[0m\n\u001b[0;32m----> 5\u001b[0;31m \u001b[0mtuple_\u001b[0m\u001b[0;34m[\u001b[0m\u001b[0;36m0\u001b[0m\u001b[0;34m]\u001b[0m \u001b[0;34m=\u001b[0m \u001b[0;34m'Grapes'\u001b[0m\u001b[0;34m\u001b[0m\u001b[0;34m\u001b[0m\u001b[0m\n\u001b[0m\u001b[1;32m      6\u001b[0m \u001b[0mprint\u001b[0m\u001b[0;34m(\u001b[0m\u001b[0mtuple_\u001b[0m\u001b[0;34m)\u001b[0m\u001b[0;34m\u001b[0m\u001b[0;34m\u001b[0m\u001b[0m\n",
            "\u001b[0;31mTypeError\u001b[0m: 'tuple' object does not support item assignment"
          ]
        }
      ]
    },
    {
      "cell_type": "markdown",
      "source": [
        "Q6- Write a function to demonstrate the behavior of mutable and immutable arguments."
      ],
      "metadata": {
        "id": "fVwzJ8MmzHr4"
      }
    },
    {
      "cell_type": "code",
      "source": [
        "def modify_immutable(num):\n",
        "    num += 1\n",
        "    print(f\"Inside function: num = {num}\")\n",
        "\n",
        "def modify_mutable(my_list):\n",
        "    my_list.append(4)\n",
        "    print(f\"Inside function: my_list = {my_list}\")\n",
        "\n",
        "original_num = 5\n",
        "print(f\"Before function call: original_num = {original_num}\")\n",
        "modify_immutable(original_num)\n",
        "print(f\"After function call: original_num = {original_num}\")\n",
        "\n",
        "my_list = [1, 2, 3]\n",
        "print(f\"Before function call: my_list = {my_list}\")\n",
        "modify_mutable(my_list)\n",
        "print(f\"After function call: my_list = {my_list}\")"
      ],
      "metadata": {
        "colab": {
          "base_uri": "https://localhost:8080/"
        },
        "id": "4BUnP1VEzIRj",
        "outputId": "7bc14a2a-f6a4-42f2-c10e-f8fecd8030ed"
      },
      "execution_count": null,
      "outputs": [
        {
          "output_type": "stream",
          "name": "stdout",
          "text": [
            "Before function call: original_num = 5\n",
            "Inside function: num = 6\n",
            "After function call: original_num = 5\n",
            "Before function call: my_list = [1, 2, 3]\n",
            "Inside function: my_list = [1, 2, 3, 4]\n",
            "After function call: my_list = [1, 2, 3, 4]\n"
          ]
        }
      ]
    },
    {
      "cell_type": "markdown",
      "source": [
        "Q7- Write a function to demonstrate the behavior of mutable and immutable arguments."
      ],
      "metadata": {
        "id": "y7dQYxYTKLrc"
      }
    },
    {
      "cell_type": "code",
      "source": [
        "def modify_immutable(num):\n",
        "    num += 1\n",
        "    print(f\"Inside function: num = {num}\")\n",
        "\n",
        "def modify_mutable(my_list):\n",
        "    my_list.append(4)\n",
        "    print(f\"Inside function: my_list = {my_list}\")\n",
        "\n",
        "original_num = 5\n",
        "print(f\"Before function call: original_num = {original_num}\")\n",
        "modify_immutable(original_num)\n",
        "print(f\"After function call: original_num = {original_num}\")\n",
        "\n",
        "my_list = [1, 2, 3]\n",
        "print(f\"Before function call: my_list = {my_list}\")\n",
        "modify_mutable(my_list)\n",
        "print(f\"After function call: my_list = {my_list}\")"
      ],
      "metadata": {
        "id": "uiu8CiXXKSAv",
        "colab": {
          "base_uri": "https://localhost:8080/"
        },
        "outputId": "2bee355f-abf3-49e2-a9b7-4ca204e7f5f1"
      },
      "execution_count": null,
      "outputs": [
        {
          "output_type": "stream",
          "name": "stdout",
          "text": [
            "Before function call: original_num = 5\n",
            "Inside function: num = 6\n",
            "After function call: original_num = 5\n",
            "Before function call: my_list = [1, 2, 3]\n",
            "Inside function: my_list = [1, 2, 3, 4]\n",
            "After function call: my_list = [1, 2, 3, 4]\n"
          ]
        }
      ]
    },
    {
      "cell_type": "markdown",
      "source": [
        "Q8- Write a program to demonstrate the use of logical operators."
      ],
      "metadata": {
        "id": "2VbNPNmAKTlx"
      }
    },
    {
      "cell_type": "code",
      "source": [
        "a = True\n",
        "b = False\n",
        "print(\"AND Operator\")\n",
        "print(f\"{a and b}\") #Output is False because one of them is False.\n",
        "print(f\"{a and a}\") #Output will be True only when both of them are True\n",
        "print(\"\")\n",
        "print(\"OR Operator\")\n",
        "print(f\"{a or b}\") #Output is True because one of them is True.\n",
        "print(f\"{b or b}\") #Output will be False only when both of them are False.\n",
        "print(\"\")\n",
        "print(\"NOT Operator\")\n",
        "print(f\"{not a}\") #Output is False because a is True.\n",
        "print(f\"{not b}\") #Output is True because b is False."
      ],
      "metadata": {
        "colab": {
          "base_uri": "https://localhost:8080/"
        },
        "id": "eOSOLhvRKYtl",
        "outputId": "69124ac8-cc95-4642-ea1b-ed945df98dde"
      },
      "execution_count": null,
      "outputs": [
        {
          "output_type": "stream",
          "name": "stdout",
          "text": [
            "AND Operator\n",
            "False\n",
            "True\n",
            "\n",
            "OR Operator\n",
            "True\n",
            "False\n",
            "\n",
            "NOT Operator\n",
            "False\n",
            "True\n"
          ]
        }
      ]
    },
    {
      "cell_type": "markdown",
      "source": [
        "Q9- Write a Python program to convert user input from string to integer, float, and boolean types."
      ],
      "metadata": {
        "id": "6kszR2D7M0nZ"
      }
    },
    {
      "cell_type": "code",
      "source": [
        "a= input(\"Enter a string to change it's type\")\n",
        "b= input(\"Select type - Integer Float Boolean\")\n",
        "if b==\"Integer\":\n",
        "  print(int(a))\n",
        "elif b==\"Float\":\n",
        "  print(float(a))\n",
        "elif b==\"Boolean\":\n",
        "  print(bool(a))\n",
        "else:\n",
        "  print(\"Invalid Input\")"
      ],
      "metadata": {
        "id": "PeH4WGfgNIn6"
      },
      "execution_count": null,
      "outputs": []
    },
    {
      "cell_type": "markdown",
      "source": [
        "Q10- Write code to demonstrate type casting with list elements."
      ],
      "metadata": {
        "id": "XXPJUi5WQGg5"
      }
    },
    {
      "cell_type": "code",
      "source": [
        "my_list = [\"10\", \"20\", \"30\", \"40\"]\n",
        "\n",
        "# Casting each element to integer\n",
        "int_list = [int(x) for x in (my_list)]\n",
        "\n",
        "print(\"Original list:\", my_list)\n",
        "print(\"List after type casting to integers:\", int_list)"
      ],
      "metadata": {
        "id": "OghxBhpMQxpQ",
        "colab": {
          "base_uri": "https://localhost:8080/"
        },
        "outputId": "c9ea1665-72dd-431f-efbd-504969f6ec2c"
      },
      "execution_count": null,
      "outputs": [
        {
          "output_type": "stream",
          "name": "stdout",
          "text": [
            "Original list: ['10', '20', '30', '40']\n",
            "List after type casting to integers: [10, 20, 30, 40]\n"
          ]
        }
      ]
    },
    {
      "cell_type": "markdown",
      "source": [
        "Q11- Write a program that checks if a number is positive, negative, or zero."
      ],
      "metadata": {
        "id": "xPIqcLBgUkC7"
      }
    },
    {
      "cell_type": "code",
      "source": [
        "a= int(input(\"Enter a number\"))\n",
        "if a>0:\n",
        "  print(\"The number is positive\")\n",
        "elif a<0:\n",
        "  print(\"The number is negative\")\n",
        "else:\n",
        "  print(\"The number is zero\")"
      ],
      "metadata": {
        "colab": {
          "base_uri": "https://localhost:8080/"
        },
        "id": "gEx5VQT6U3JU",
        "outputId": "0ae62518-bbef-43f8-f075-ba25a9ebc3f8"
      },
      "execution_count": null,
      "outputs": [
        {
          "output_type": "stream",
          "name": "stdout",
          "text": [
            "Enter a number1\n",
            "The number is positive\n"
          ]
        }
      ]
    },
    {
      "cell_type": "markdown",
      "source": [
        "Q12- Write a for loop to print numbers from 1 to 10."
      ],
      "metadata": {
        "id": "K_b2WynLU6Wg"
      }
    },
    {
      "cell_type": "code",
      "source": [
        "for i in range(1,11):\n",
        "  print(i)"
      ],
      "metadata": {
        "colab": {
          "base_uri": "https://localhost:8080/"
        },
        "id": "uIqHvjXDVA6a",
        "outputId": "75d802cf-2ea4-4e3f-8805-e802dd1a7332"
      },
      "execution_count": null,
      "outputs": [
        {
          "output_type": "stream",
          "name": "stdout",
          "text": [
            "1\n",
            "2\n",
            "3\n",
            "4\n",
            "5\n",
            "6\n",
            "7\n",
            "8\n",
            "9\n",
            "10\n"
          ]
        }
      ]
    },
    {
      "cell_type": "markdown",
      "source": [
        "Q13- Write a Python program to find the sum of all even numbers between 1 and 50."
      ],
      "metadata": {
        "id": "fDWh2E6SVaoA"
      }
    },
    {
      "cell_type": "code",
      "source": [
        "a = 0\n",
        "for i in range(0, 51):\n",
        "  if i%2==0:\n",
        "    a += i\n",
        "    print(a)\n",
        "print(\"The Sum of even numbers from 1 to 50 is\",a)"
      ],
      "metadata": {
        "colab": {
          "base_uri": "https://localhost:8080/"
        },
        "id": "0abBxFovVg5Y",
        "outputId": "b174649f-0ad7-48c8-c61e-2cda2672b085"
      },
      "execution_count": null,
      "outputs": [
        {
          "output_type": "stream",
          "name": "stdout",
          "text": [
            "0\n",
            "2\n",
            "6\n",
            "12\n",
            "20\n",
            "30\n",
            "42\n",
            "56\n",
            "72\n",
            "90\n",
            "110\n",
            "132\n",
            "156\n",
            "182\n",
            "210\n",
            "240\n",
            "272\n",
            "306\n",
            "342\n",
            "380\n",
            "420\n",
            "462\n",
            "506\n",
            "552\n",
            "600\n",
            "650\n",
            "The Sum of even numbers from 1 to 50 is 650\n"
          ]
        }
      ]
    },
    {
      "cell_type": "markdown",
      "source": [
        "Q14- Write a program to reverse a string using a while loop?"
      ],
      "metadata": {
        "id": "klMx7i3daeT8"
      }
    },
    {
      "cell_type": "code",
      "source": [
        "a = (\"Ajay\")\n",
        "while len(a) > 0:\n",
        "  print(a[-1])\n",
        "  a = a[:-1]"
      ],
      "metadata": {
        "colab": {
          "base_uri": "https://localhost:8080/"
        },
        "id": "tL0nhhQaakEk",
        "outputId": "1e5b9cbf-5bf1-4553-9f41-64ffbe338127"
      },
      "execution_count": null,
      "outputs": [
        {
          "output_type": "stream",
          "name": "stdout",
          "text": [
            "y\n",
            "a\n",
            "j\n",
            "A\n"
          ]
        }
      ]
    },
    {
      "cell_type": "markdown",
      "source": [
        "15- Write a Python program to calculate the factorial of a number provided by the user using a while loop."
      ],
      "metadata": {
        "id": "l7PmH1ABe4dl"
      }
    },
    {
      "cell_type": "code",
      "source": [
        "a = int(input(\"Enter a number\"))\n",
        "b = 1\n",
        "while a > 0:\n",
        "  b *= a\n",
        "  a -= 1\n",
        "print(b)"
      ],
      "metadata": {
        "colab": {
          "base_uri": "https://localhost:8080/"
        },
        "id": "Sytg8RTbfB7A",
        "outputId": "93228717-1be6-4c70-8602-50ec0bead80a"
      },
      "execution_count": null,
      "outputs": [
        {
          "output_type": "stream",
          "name": "stdout",
          "text": [
            "Enter a number5\n",
            "120\n"
          ]
        }
      ]
    }
  ]
}